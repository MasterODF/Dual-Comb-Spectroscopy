{
 "cells": [
  {
   "cell_type": "code",
   "execution_count": 1,
   "id": "3f7a4004-03b6-4679-a5bc-13dc35487ce7",
   "metadata": {},
   "outputs": [],
   "source": [
    "# Import libraries\n",
    "\n",
    "%matplotlib widget\n",
    "\n",
    "import winsound\n",
    "\n",
    "CFREQ = 523\n",
    "DFREQ = 261\n",
    "DUR = 200\n",
    "\n",
    "import numpy as np\n",
    "import os\n",
    "import h5py\n",
    "import matplotlib.pyplot as plt\n",
    "from scipy.fft import fft, fftfreq\n",
    "from scipy.signal import find_peaks\n",
    "import pandas as pd\n",
    "from math import floor\n",
    "\n",
    "from __future__ import division\n",
    "from numpy import linspace, loadtxt, ones, convolve\n",
    "\n",
    "def MovingAverage(interval, window_size):\n",
    "    window= np.ones(int(window_size))/float(window_size)\n",
    "    return np.convolve(interval, window, 'same')\n",
    "\n",
    "\n",
    "def GetInfo(stringName):\n",
    "    data = h5py.File(stringName, \"r\") #the path of the dataset\n",
    "    a = np.array(data['/x'])\n",
    "    b = np.array(data['/y'])\n",
    "    data.close()\n",
    "    return a,b\n",
    "\n",
    "def GetMaxValueMaxIndex(values,repeat):\n",
    "    max_values = []\n",
    "    max_indices = []\n",
    "    for i in range(0, floor(len(values)/repeat),1):\n",
    "        segment = values[floor(i * repeat) : floor((i+1) * repeat)]\n",
    "        max_value = np.max(segment)\n",
    "        max_index = np.argmax(segment) + floor(i * repeat)  # Add i to get the absolute index in the original array\n",
    "        max_values.append(max_value)\n",
    "        max_indices.append(max_index)\n",
    "    max_values = np.array(max_values)\n",
    "    max_indices = np.array(max_indices)\n",
    "    return max_values, max_indices\n",
    "\n",
    "\n",
    "\n",
    "def isNumber(chain):\n",
    "    for char in chain:\n",
    "        if ((not char.isdigit()) and (not char == \".\")):\n",
    "            return False\n",
    "\n",
    "    return True\n",
    "\n",
    "\n",
    "\n",
    "\n",
    "def AskInput(expectedType):\n",
    "    winsound.Beep(CFREQ,DUR)\n",
    "    winsound.Beep(DFREQ,DUR)\n",
    "    cycle = True\n",
    "    while cycle:\n",
    "        value = input()\n",
    "        if expectedType == int or expectedType == float:\n",
    "            if not isNumber(value):\n",
    "                print(\"Wrong input, try again\")\n",
    "            else:\n",
    "                print(\"Your input is: \" + str(value) + \". Do you want to change it? (y=yes,n=no)\")\n",
    "                check = input()\n",
    "                if check == 'n':\n",
    "                    cycle = False\n",
    "                    return value\n",
    "        else:\n",
    "            print(\"Your input is: \" + str(value) + \". Do you want to change it? (y=yes,n=no)\")\n",
    "            check = input()\n",
    "            if check == 'n':\n",
    "                cycle = False\n",
    "                return value\n",
    "\n",
    "\n",
    "winsound.Beep(CFREQ,DUR)\n",
    "winsound.Beep(DFREQ,DUR)"
   ]
  },
  {
   "cell_type": "code",
   "execution_count": 2,
   "id": "98eed7c7-280c-4946-95bc-b17828399b42",
   "metadata": {},
   "outputs": [
    {
     "name": "stdout",
     "output_type": "stream",
     "text": [
      "Number of folders: \n"
     ]
    },
    {
     "name": "stdin",
     "output_type": "stream",
     "text": [
      " 1\n"
     ]
    },
    {
     "name": "stdout",
     "output_type": "stream",
     "text": [
      "Your input is: 1. Do you want to change it? (y=yes,n=no)\n"
     ]
    },
    {
     "name": "stdin",
     "output_type": "stream",
     "text": [
      " y\n",
      " 2\n"
     ]
    },
    {
     "name": "stdout",
     "output_type": "stream",
     "text": [
      "Your input is: 2. Do you want to change it? (y=yes,n=no)\n"
     ]
    },
    {
     "name": "stdin",
     "output_type": "stream",
     "text": [
      " n\n"
     ]
    },
    {
     "name": "stdout",
     "output_type": "stream",
     "text": [
      "Files in folder 0: \n"
     ]
    },
    {
     "name": "stdin",
     "output_type": "stream",
     "text": [
      " 30\n"
     ]
    },
    {
     "name": "stdout",
     "output_type": "stream",
     "text": [
      "Your input is: 30. Do you want to change it? (y=yes,n=no)\n"
     ]
    },
    {
     "name": "stdin",
     "output_type": "stream",
     "text": [
      " n\n"
     ]
    },
    {
     "name": "stdout",
     "output_type": "stream",
     "text": [
      "Files in folder 1: \n"
     ]
    },
    {
     "name": "stdin",
     "output_type": "stream",
     "text": [
      " 30\n"
     ]
    },
    {
     "name": "stdout",
     "output_type": "stream",
     "text": [
      "Your input is: 30. Do you want to change it? (y=yes,n=no)\n"
     ]
    },
    {
     "name": "stdin",
     "output_type": "stream",
     "text": [
      " n\n"
     ]
    },
    {
     "name": "stdout",
     "output_type": "stream",
     "text": [
      "This program creates files as an output. Where do you want it to place them (folder path)?: \n"
     ]
    },
    {
     "name": "stdin",
     "output_type": "stream",
     "text": [
      " C:\\Users\\Óscar\\Desktop\\DCS\\Pruebasd2d2\n"
     ]
    },
    {
     "name": "stdout",
     "output_type": "stream",
     "text": [
      "Your input is: C:\\Users\\Óscar\\Desktop\\DCS\\Pruebasd2d2. Do you want to change it? (y=yes,n=no)\n"
     ]
    },
    {
     "name": "stdin",
     "output_type": "stream",
     "text": [
      " n\n"
     ]
    },
    {
     "name": "stdout",
     "output_type": "stream",
     "text": [
      "Common name of files (all files mmust have smthg in common (e.g: B_1, B_2): \n"
     ]
    },
    {
     "name": "stdin",
     "output_type": "stream",
     "text": [
      " B_\n"
     ]
    },
    {
     "name": "stdout",
     "output_type": "stream",
     "text": [
      "Your input is: B_. Do you want to change it? (y=yes,n=no)\n"
     ]
    },
    {
     "name": "stdin",
     "output_type": "stream",
     "text": [
      " n\n"
     ]
    },
    {
     "name": "stdout",
     "output_type": "stream",
     "text": [
      "Minimum frequency of interest of interferometer (MHz): \n"
     ]
    },
    {
     "name": "stdin",
     "output_type": "stream",
     "text": [
      " 22\n"
     ]
    },
    {
     "name": "stdout",
     "output_type": "stream",
     "text": [
      "Your input is: 22. Do you want to change it? (y=yes,n=no)\n"
     ]
    },
    {
     "name": "stdin",
     "output_type": "stream",
     "text": [
      " y\n",
      " 0\n"
     ]
    },
    {
     "name": "stdout",
     "output_type": "stream",
     "text": [
      "Your input is: 0. Do you want to change it? (y=yes,n=no)\n"
     ]
    },
    {
     "name": "stdin",
     "output_type": "stream",
     "text": [
      " n\n"
     ]
    },
    {
     "name": "stdout",
     "output_type": "stream",
     "text": [
      "Maximum freq int interf (MHz): \n"
     ]
    },
    {
     "name": "stdin",
     "output_type": "stream",
     "text": [
      " 100\n"
     ]
    },
    {
     "name": "stdout",
     "output_type": "stream",
     "text": [
      "Your input is: 100. Do you want to change it? (y=yes,n=no)\n"
     ]
    },
    {
     "name": "stdin",
     "output_type": "stream",
     "text": [
      " n\n"
     ]
    },
    {
     "name": "stdout",
     "output_type": "stream",
     "text": [
      "Sampling frequency (MHz): \n"
     ]
    },
    {
     "name": "stdin",
     "output_type": "stream",
     "text": [
      " 100\n"
     ]
    },
    {
     "name": "stdout",
     "output_type": "stream",
     "text": [
      "Your input is: 100. Do you want to change it? (y=yes,n=no)\n"
     ]
    },
    {
     "name": "stdin",
     "output_type": "stream",
     "text": [
      " n\n"
     ]
    }
   ],
   "source": [
    "print(\"Number of folders: \")\n",
    "numberFolders = int(AskInput(int))\n",
    "\n",
    "numberFiles = []\n",
    "\n",
    "for i in range(0,numberFolders):\n",
    "    print(\"Files in folder \" + str(i) + \": \")\n",
    "    numberFiles.append(int(AskInput(int)))\n",
    "\n",
    "print(\"This program creates files as an output. Where do you want it to place them (folder path)?: \")\n",
    "savePath = AskInput(str)+ \"\\\\\"\n",
    "savePath.replace(\"\\\\\", \"\\\\\\\\\")\n",
    "\n",
    "print(\"Common name of files (all files mmust have smthg in common (e.g: B_1, B_2): \")\n",
    "commonName = AskInput(str)\n",
    "\n",
    "print(\"Minimum frequency of interest of interferometer (MHz): \")\n",
    "minFreqIntPlot = float((AskInput(float)))\n",
    "    \n",
    "print(\"Maximum freq int interf (MHz): \")\n",
    "maxFreqIntPlot = float((AskInput(float)))\n",
    "\n",
    "print(\"Sampling frequency (MHz): \")\n",
    "fs = float((AskInput(float)))\n",
    "\n",
    "# There is a number of folders, one for each setup of the experiment (opposite B measuring X intensity, op B meas Y,\n",
    "# colinear B meas X, col B meas Y).\n",
    "#Each folder has two files, B_1, B_2.\n"
   ]
  },
  {
   "cell_type": "code",
   "execution_count": null,
   "id": "c21a218c-db63-4608-b104-974bc8404ead",
   "metadata": {},
   "outputs": [],
   "source": [
    "print(\"Minimum frequency of interest of interferometer (MHz): \")\n",
    "minFreqIntPlot = float((AskInput(float)))\n",
    "    \n",
    "print(\"Maximum freq int interf (MHz): \")\n",
    "maxFreqIntPlot = float((AskInput(float)))\n"
   ]
  },
  {
   "cell_type": "code",
   "execution_count": 4,
   "id": "d89cf2fd-f5bf-49a0-b0e7-fb1c7946129c",
   "metadata": {},
   "outputs": [
    {
     "name": "stdout",
     "output_type": "stream",
     "text": [
      "Folder 1 path: \n"
     ]
    },
    {
     "name": "stdin",
     "output_type": "stream",
     "text": [
      " C:\\Users\\Óscar\\Desktop\\DCS\\662nm_amp\\2024_09_05_15h_42m_12s\\Digitizer1\n"
     ]
    },
    {
     "name": "stdout",
     "output_type": "stream",
     "text": [
      "Your input is: C:\\Users\\Óscar\\Desktop\\DCS\\662nm_amp\\2024_09_05_15h_42m_12s\\Digitizer1. Do you want to change it? (y=yes,n=no)\n"
     ]
    },
    {
     "name": "stdin",
     "output_type": "stream",
     "text": [
      " n\n"
     ]
    },
    {
     "name": "stdout",
     "output_type": "stream",
     "text": [
      "Desired plot name: \n"
     ]
    },
    {
     "name": "stdin",
     "output_type": "stream",
     "text": [
      " Spectrometry result for 662 nm\n"
     ]
    },
    {
     "name": "stdout",
     "output_type": "stream",
     "text": [
      "Your input is: Spectrometry result for 662 nm. Do you want to change it? (y=yes,n=no)\n"
     ]
    },
    {
     "name": "stdin",
     "output_type": "stream",
     "text": [
      " n\n"
     ]
    },
    {
     "name": "stdout",
     "output_type": "stream",
     "text": [
      "Accessing folder 1 file 1\n",
      "Accessing folder 1 file 2\n",
      "Accessing folder 1 file 3\n",
      "Accessing folder 1 file 4\n",
      "Accessing folder 1 file 5\n",
      "Accessing folder 1 file 6\n",
      "Accessing folder 1 file 7\n",
      "Accessing folder 1 file 8\n",
      "Accessing folder 1 file 9\n",
      "Accessing folder 1 file 10\n",
      "Accessing folder 1 file 11\n",
      "Accessing folder 1 file 12\n",
      "Accessing folder 1 file 13\n",
      "Accessing folder 1 file 14\n",
      "Accessing folder 1 file 15\n",
      "Accessing folder 1 file 16\n",
      "Accessing folder 1 file 17\n",
      "Accessing folder 1 file 18\n",
      "Accessing folder 1 file 19\n",
      "Accessing folder 1 file 20\n",
      "Accessing folder 1 file 21\n",
      "Accessing folder 1 file 22\n",
      "Accessing folder 1 file 23\n",
      "Accessing folder 1 file 24\n",
      "Accessing folder 1 file 25\n",
      "Accessing folder 1 file 26\n",
      "Accessing folder 1 file 27\n",
      "Accessing folder 1 file 28\n",
      "Accessing folder 1 file 29\n",
      "Accessing folder 1 file 30\n",
      "Output file name: \n"
     ]
    },
    {
     "name": "stdin",
     "output_type": "stream",
     "text": [
      " prueba\n"
     ]
    },
    {
     "name": "stdout",
     "output_type": "stream",
     "text": [
      "Your input is: prueba. Do you want to change it? (y=yes,n=no)\n"
     ]
    },
    {
     "name": "stdin",
     "output_type": "stream",
     "text": [
      " n\n"
     ]
    },
    {
     "name": "stdout",
     "output_type": "stream",
     "text": [
      "['C:\\\\Users\\\\Óscar\\\\Desktop\\\\DCS\\\\Pruebasd2d2\\\\prueba.h5']\n",
      "Folder 2 path: \n"
     ]
    },
    {
     "name": "stdin",
     "output_type": "stream",
     "text": [
      " C:\\Users\\Óscar\\Desktop\\DCS\\662nm_no_amp_samepower\\2024_09_05_15h_48m_59s\\Digitizer1\n"
     ]
    },
    {
     "name": "stdout",
     "output_type": "stream",
     "text": [
      "Your input is: C:\\Users\\Óscar\\Desktop\\DCS\\662nm_no_amp_samepower\\2024_09_05_15h_48m_59s\\Digitizer1. Do you want to change it? (y=yes,n=no)\n"
     ]
    },
    {
     "name": "stdin",
     "output_type": "stream",
     "text": [
      " n\n"
     ]
    },
    {
     "name": "stdout",
     "output_type": "stream",
     "text": [
      "Desired plot name: \n"
     ]
    },
    {
     "name": "stdin",
     "output_type": "stream",
     "text": [
      " Spectrometry result for 662 nm, no Amp\n"
     ]
    },
    {
     "name": "stdout",
     "output_type": "stream",
     "text": [
      "Your input is: Spectrometry result for 662 nm, no Amp. Do you want to change it? (y=yes,n=no)\n"
     ]
    },
    {
     "name": "stdin",
     "output_type": "stream",
     "text": [
      " n\n"
     ]
    },
    {
     "name": "stdout",
     "output_type": "stream",
     "text": [
      "Accessing folder 2 file 1\n",
      "Accessing folder 2 file 2\n",
      "Accessing folder 2 file 3\n",
      "Accessing folder 2 file 4\n",
      "Accessing folder 2 file 5\n",
      "Accessing folder 2 file 6\n",
      "Accessing folder 2 file 7\n",
      "Accessing folder 2 file 8\n",
      "Accessing folder 2 file 9\n",
      "Accessing folder 2 file 10\n",
      "Accessing folder 2 file 11\n",
      "Accessing folder 2 file 12\n",
      "Accessing folder 2 file 13\n",
      "Accessing folder 2 file 14\n",
      "Accessing folder 2 file 15\n",
      "Accessing folder 2 file 16\n",
      "Accessing folder 2 file 17\n",
      "Accessing folder 2 file 18\n",
      "Accessing folder 2 file 19\n",
      "Accessing folder 2 file 20\n",
      "Accessing folder 2 file 21\n",
      "Accessing folder 2 file 22\n",
      "Accessing folder 2 file 23\n",
      "Accessing folder 2 file 24\n",
      "Accessing folder 2 file 25\n",
      "Accessing folder 2 file 26\n",
      "Accessing folder 2 file 27\n",
      "Accessing folder 2 file 28\n",
      "Accessing folder 2 file 29\n",
      "Accessing folder 2 file 30\n",
      "Output file name: \n"
     ]
    },
    {
     "name": "stdin",
     "output_type": "stream",
     "text": [
      " prueba2\n"
     ]
    },
    {
     "name": "stdout",
     "output_type": "stream",
     "text": [
      "Your input is: prueba2. Do you want to change it? (y=yes,n=no)\n"
     ]
    },
    {
     "name": "stdin",
     "output_type": "stream",
     "text": [
      " n\n"
     ]
    },
    {
     "name": "stdout",
     "output_type": "stream",
     "text": [
      "['C:\\\\Users\\\\Óscar\\\\Desktop\\\\DCS\\\\Pruebasd2d2\\\\prueba.h5', 'C:\\\\Users\\\\Óscar\\\\Desktop\\\\DCS\\\\Pruebasd2d2\\\\prueba2.h5']\n"
     ]
    },
    {
     "data": {
      "application/vnd.jupyter.widget-view+json": {
       "model_id": "600f51d385574a90bc22b88e7e021257",
       "version_major": 2,
       "version_minor": 0
      },
      "image/png": "[encoded data removed]",
      "text/html": [
       "\n",
       "            <div style=\"display: inline-block;\">\n",
       "                <div class=\"jupyter-widgets widget-label\" style=\"text-align: center;\">\n",
       "                    Figure\n",
       "                </div>\n",
       "                <img src='data:image/png;base64,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' width=640.0/>\n",
       "            </div>\n",
       "        "
      ],
      "text/plain": [
       "Canvas(toolbar=Toolbar(toolitems=[('Home', 'Reset original view', 'home', 'home'), ('Back', 'Back to previous …"
      ]
     },
     "metadata": {},
     "output_type": "display_data"
    },
    {
     "data": {
      "application/vnd.jupyter.widget-view+json": {
       "model_id": "7d670b438e074a7f8a3a8701add99a8f",
       "version_major": 2,
       "version_minor": 0
      },
      "image/png": "[encoded data removed]",
      "text/html": [
       "\n",
       "            <div style=\"display: inline-block;\">\n",
       "                <div class=\"jupyter-widgets widget-label\" style=\"text-align: center;\">\n",
       "                    Figure\n",
       "                </div>\n",
       "                <img src='data:image/png;base64,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' width=640.0/>\n",
       "            </div>\n",
       "        "
      ],
      "text/plain": [
       "Canvas(toolbar=Toolbar(toolitems=[('Home', 'Reset original view', 'home', 'home'), ('Back', 'Back to previous …"
      ]
     },
     "metadata": {},
     "output_type": "display_data"
    }
   ],
   "source": [
    "#This is a for which asks for the folders and files. It calculates the FFT of each file and adds it up, then creates a folder\n",
    "#for each different exp setup.\n",
    "\n",
    "outputFileName = []\n",
    "\n",
    "for i in range (1,numberFolders+1):\n",
    "\n",
    "    #Ask for folder of the setup\n",
    "    print(\"Folder \"+ str(i) +\" path: \")\n",
    "    folderPath = AskInput(str) + \"\\\\\"\n",
    "    folderPath = folderPath.replace(\"\\\\\", \"\\\\\\\\\")  #Python works with \\\\ instad of \\\n",
    "\n",
    "    \n",
    "    print(\"Desired plot name: \")\n",
    "    plotName = AskInput(str)\n",
    "\n",
    "    \n",
    "    #Create a void variable to clean previous data\n",
    "    ffts = None\n",
    "\n",
    "    \n",
    "    for j in range (1,numberFiles[i-1]+1):\n",
    "\n",
    "        #Access folder\n",
    "        \n",
    "        print(\"Accessing folder \" +str(i) + \" file \" + str(j))\n",
    "        filePath = folderPath + commonName + str(j) + \".h5\"\n",
    "        data =h5py.File(filePath, \"r\")\n",
    "\n",
    "        #Perform FFT\n",
    "        signal = np.array(data['/B_' + str(j)])\n",
    "        fft_signal = np.abs(fft(signal))\n",
    "\n",
    "        #Stablish void variable as an array of zeros to avoid array-dimensional problems\n",
    "        if ffts is None:\n",
    "            ffts = np.zeros_like(fft_signal)\n",
    "\n",
    "        ffts += fft_signal\n",
    "\n",
    "        #Close file\n",
    "        data.close()\n",
    "        del signal\n",
    "\n",
    "    #Average: there are numberFiles measurements per exp setup\n",
    "    ffts = ffts/numberFiles[i-1]\n",
    "\n",
    "\n",
    "    #Normalize\n",
    "    ffts = np.array(ffts)\n",
    "    ffts = ffts/len(ffts)\n",
    "    nfft = len(ffts)\n",
    "\n",
    "    #Vector of frequencies: the X axis\n",
    "    fvec = np.linspace(0,fs,nfft)\n",
    "\n",
    "\n",
    "    #Plot results\n",
    "    plt.figure()\n",
    "    plt.title(plotName)\n",
    "    plt.plot(fvec,ffts)\n",
    "    plt.ylabel('Signal (arb. unit)',fontsize=20)\n",
    "    plt.xlabel('Radio frequency (MHz)',fontsize=20)\n",
    "    plt.xlim([minFreqIntPlot, maxFreqIntPlot])\n",
    "\n",
    "\n",
    "    #Save results of the region of interest in MHz in a file\n",
    "    fftsfin = ffts [int(minFreqIntPlot*10**3) : int(maxFreqIntPlot*10**3)]\n",
    "    fvecfin = fvec [int(minFreqIntPlot*10**3) : int(maxFreqIntPlot*10**3)]\n",
    "    \n",
    "    print(\"Output file name: \")\n",
    "    outputFileName.append(savePath + AskInput(str) + \".h5\")\n",
    "\n",
    "    print(outputFileName)\n",
    "    \n",
    "    with h5py.File(outputFileName[i-1], \"w\") as f:\n",
    "        dset = f.create_dataset(\"x\",data = fvecfin)\n",
    "        dset = f.create_dataset(\"y\", data=fftsfin)\n",
    "    \n",
    "winsound.Beep(CFREQ,DUR)\n",
    "winsound.Beep(DFREQ,DUR)"
   ]
  },
  {
   "cell_type": "code",
   "execution_count": null,
   "id": "182aaf41-a7c9-4a57-9af3-ec5fe3e32093",
   "metadata": {},
   "outputs": [],
   "source": [
    "#Initial information about the experiment\n",
    "\n",
    "print(\"Repetition rate of FIRST comb (MHz): \")\n",
    "f_rep1 = float(AskInput(float)) * 10**6\n",
    "\n",
    "print(\"Repetition rate of SECOND comb (MHz): \")\n",
    "f_rep2 = float(AskInput(float)) * 10**6\n",
    "\n",
    "print(\"Off-set frequency (MHz): \")\n",
    "f_ceo = float(AskInput(float)) * 10 ** 6\n",
    "\n",
    "print(\"Approx example optical frequency (THz): \")\n",
    "f_opt_wanted = float(AskInput(float)) * 10 **12\n",
    "\n",
    "df_rep = abs(f_rep2 - f_rep1) #difference between two combs\n",
    "\n",
    "f_unamb = (f_rep1 ** 2)/(2 * df_rep) #unambiguity range\n",
    "\n",
    "\n",
    "#Finding  the order of the region \n",
    "    \n",
    "for i in range (1,10):\n",
    "    if f_opt_wanted < i * f_unamb:\n",
    "        unamb_n = i \n",
    "        break\n",
    "\n",
    "print(\"Difference between frequency of combs: \" + str(df_rep))\n",
    "print('The unambiguity range is',f_unamb / 10 ** 12,'THz')\n",
    "print('The order of the unambiguity region is',unamb_n)\n",
    "\n",
    "winsound.Beep(CFREQ,DUR)\n",
    "winsound.Beep(DFREQ,DUR)"
   ]
  },
  {
   "cell_type": "code",
   "execution_count": null,
   "id": "25bf5eb9-4618-491c-a7c6-1ea1a67906c1",
   "metadata": {},
   "outputs": [],
   "source": [
    "\n",
    "###### FOR DEBUGGING PURPOSES ONLY ###########\n",
    "\n",
    "outputFileName = [\"C:\\\\Users\\\\Oscar\\\\Desktop\\\\Test_Data\\\\SavedData\\\\col_x.h5\",\"C:\\\\Users\\\\Oscar\\\\Desktop\\\\Test_Data\\\\SavedData\\\\col_y.h5\",\"C:\\\\Users\\\\Oscar\\\\Desktop\\\\Test_Data\\\\SavedData\\\\op_y.h5\",\"C:\\\\Users\\\\Oscar\\\\Desktop\\\\Test_Data\\\\SavedData\\\\op_x.h5\"]\n"
   ]
  },
  {
   "cell_type": "code",
   "execution_count": null,
   "id": "f492f731-2861-4c24-b35a-e75722c382ba",
   "metadata": {},
   "outputs": [],
   "source": [
    "print(outputFileName)"
   ]
  },
  {
   "cell_type": "code",
   "execution_count": null,
   "id": "23f130da-fca8-424f-a1b2-d3c1d6a81ebe",
   "metadata": {},
   "outputs": [],
   "source": [
    "# Converting the radio domain back to the optical domain (MHz --> THz)\n",
    "\n",
    "print(\"Converting rf to optical domain and saving in new files.\")\n",
    "\n",
    "nameNewOutput = []\n",
    "\n",
    "for k in range(1,numberFolders+1):\n",
    "\n",
    "    #Open the file with data in radio frequencies\n",
    "\n",
    "    print(\"Now converting: \" + outputFileName[k-1])\n",
    "    \n",
    "    fvec,ffts = GetInfo(outputFileName[k-1])\n",
    "    \n",
    "    fr = fvec * 10 ** 6  #array of frequencies taken from the real data\n",
    "    f_opt = [0 for i in range(len(fr))]  #new array for the optical wavelengths\n",
    "    \n",
    "    \n",
    "    for l in range (len(fr)): #transferring each element of the fr (which is in Hz) to the optical frequency and writing into f_opt\n",
    "        if (unamb_n % 2) == 0:\n",
    "            n = (((f_rep1) / 2) - fr[l]) / df_rep\n",
    "        else:\n",
    "             n = fr[l] / df_rep\n",
    "        nreg = (f_rep1 / 2) / df_rep \n",
    "        n = n + (unamb_n - 1) * nreg \n",
    "        f_opt[l] = (n * f_rep1) / 10 ** 12\n",
    "\n",
    "\n",
    "\n",
    "    f_opt = np.array(f_opt)\n",
    "\n",
    "    fftsfin = ffts\n",
    "    fvecfin = f_opt\n",
    "\n",
    "    outputFileName[k-1] = outputFileName[k-1].replace(\".h5\",\"THz.h5\")\n",
    "\n",
    "    print(fvecfin)\n",
    "    print(fftsfin)\n",
    "\n",
    "    fftsfin = fftsfin/max(fftsfin)\n",
    "    \n",
    "    with h5py.File(outputFileName[k-1], 'w') as f:\n",
    "        dset = f.create_dataset(\"x\",data = fvecfin)\n",
    "        dset = f.create_dataset(\"y\", data = fftsfin)\n",
    "\n",
    "\n",
    "winsound.Beep(CFREQ,DUR)\n",
    "winsound.Beep(DFREQ,DUR)"
   ]
  },
  {
   "cell_type": "code",
   "execution_count": null,
   "id": "08a70ae6-56c2-400f-9099-b7451d4eb9a3",
   "metadata": {},
   "outputs": [],
   "source": [
    "#Get plots of intensities vs frequency in THz for all setups\n",
    "\n",
    "window = 1\n",
    "\n",
    "fvecArray = []\n",
    "fftsArray = []\n",
    "maxValueArray = []\n",
    "maxIndexArray = []\n",
    "avMax = []\n",
    "intensityArray = []\n",
    "df = df_rep\n",
    "\n",
    "for i in range (0,numberFolders):\n",
    "    tempX, tempY = GetInfo(outputFileName[i])\n",
    "    fvecArray.append(tempX)\n",
    "    fftsArray.append(tempY)\n",
    "    \n",
    "    tempX, tempY = GetMaxValueMaxIndex(fftsArray[i],df)\n",
    "    maxValueArray.append(tempX)\n",
    "    maxIndexArray.append(tempY)\n",
    "\n",
    "    tempX = MovingAverage(maxValueArray[i],window)\n",
    "    avMax.append(tempX)\n",
    "\n",
    "    avMax[i] = avMax[i]/np.max(avMax[i])\n",
    "\n",
    "    intensityArray.append(avMax[i]/np.max(avMax[i]))\n",
    "\n",
    "\n",
    "winsound.Beep(CFREQ,DUR)\n",
    "winsound.Beep(DFREQ,DUR)"
   ]
  },
  {
   "cell_type": "code",
   "execution_count": null,
   "id": "8b9a6aa6-1e2e-4bba-a55b-8e6ec3bd1088",
   "metadata": {},
   "outputs": [],
   "source": [
    "print(fvecArray[numToPlot][maxIndexArray[numToPlot]])"
   ]
  },
  {
   "cell_type": "code",
   "execution_count": null,
   "id": "a9451d6b-987d-4262-bb32-ff847e166ec0",
   "metadata": {},
   "outputs": [],
   "source": [
    "#Plotting time! \n",
    "\n",
    "print(\"It's plotting time! We've got \" + str(numberFolders) + \" sets of data. How many FIGURES do you want? A figure is a set of plots!\")\n",
    "numberFigures = int(AskInput(int))\n",
    "\n",
    "print(\"How many PLOTS do you want in each figure?\")\n",
    "numberPlots = int(AskInput(int))\n",
    "\n",
    "for i in range (0,numberFigures):\n",
    "    print(\"Title of the figure: \")\n",
    "    plotTitle = AskInput(str)\n",
    "    plt.figure()\n",
    "    plt.title(plotTitle)\n",
    "    for j in range (0,numberPlots):\n",
    "        print(\"Number of dataset you want to plot. The order is the same of the files you input at the beginning: \")\n",
    "        numToPlot = int(AskInput(int)) -1\n",
    "        print(\"Label for this plot: \")\n",
    "        labelOfPlot = AskInput(str)\n",
    "        plt.plot(fvecArray[numToPlot][maxIndexArray[numToPlot]], avMax[numToPlot]/np.max(avMax[numToPlot]), label = labelOfPlot)\n",
    "    \n",
    "    plt.ylabel('Signal (arb. unit)',fontsize=20)\n",
    "    plt.xlabel('Frequency (THz)',fontsize=20)\n",
    "    plt.xlim(min(fvecArray[numToPlot][maxIndexArray[numToPlot]]),max(fvecArray[numToPlot][maxIndexArray[numToPlot]]))\n",
    "    plt.ticklabel_format(useOffset=False)\n",
    "    plt.legend( loc='upper left')\n",
    "\n",
    "plt.show()\n",
    "\n",
    "winsound.Beep(CFREQ,DUR)\n",
    "winsound.Beep(DFREQ,DUR)\n"
   ]
  },
  {
   "cell_type": "code",
   "execution_count": null,
   "id": "00575361-1fe3-4adf-996b-eda4ea7955b0",
   "metadata": {},
   "outputs": [],
   "source": [
    "#Intensity and rotations vs frequency for Colinear Magnets\n",
    "\n",
    "###################################################################################################################\n",
    "# ONLY EXECUTE THIS CELL IF YOU'RE WORKING WITH X AND Y MEASUREMENTS OF INTENSITY\n",
    "\n",
    "print(\"Which number of folder corresponds to colinear magnets, x intensity?\")\n",
    "folColX = int(AskInput(int)) -1\n",
    "avMaxColX = avMax[folColX]\n",
    "IColX = intensityArray[folColX]\n",
    "fvecColX = fvecArray[folColX]\n",
    "maxIndexColX = maxIndexArray[folColX]\n",
    "\n",
    "print(\"Which number of folder corresponds to colinear magnets, y intensity?\")\n",
    "folColY = int(AskInput(int)) -1\n",
    "avMaxColY = avMax[folColY]\n",
    "IColY = intensityArray[folColY]\n",
    "fvecColY = fvecArray[folColY]\n",
    "maxIndexColY = maxIndexArray[folColY]\n",
    "\n",
    "avMaxSeparCol = avMaxColY - avMaxColX\n",
    "\n",
    "angCol = (IColX - IColY)/(IColX + IColY)\n",
    "\n",
    "\n",
    "c = 299792458\n",
    "wavelengthsColX = c/(1000*fvecColX)   # Convert meters to nanometers\n",
    "wavelengthsColY = c/(1000*fvecColY)\n",
    "\n",
    "# Create the figure and gridspec\n",
    "fig = plt.figure()\n",
    "gs = fig.add_gridspec(3, hspace=0)\n",
    "axs = gs.subplots(sharex=True, sharey=False)  # Ensure sharey=False to have independent y-limits\n",
    "\n",
    "# Create a top x-axis for only the first subplot\n",
    "top_ax = axs[0].twiny()\n",
    "\n",
    "# Plotting the data\n",
    "axs[1].plot(fvecColX[maxIndexColX], avMaxColX / np.max(avMaxColX), 'g', label='Horizontal component colinear magnets')\n",
    "axs[0].plot(fvecColX[maxIndexColX], avMaxColY / np.max(avMaxColY), 'r', label='Vertical component colinear magnets')\n",
    "axs[2].plot(fvecColX[maxIndexColX], angCol, label='Rotation colinear magnets')\n",
    "\n",
    "# Adding legends\n",
    "axs[0].legend(loc=\"upper right\")\n",
    "axs[1].legend(loc=\"upper right\")\n",
    "axs[2].legend(loc=\"upper right\")\n",
    "\n",
    "# Setting y-limits\n",
    "axs[0].set_ylim([0, 1.1])\n",
    "axs[1].set_ylim([0, 1.1])\n",
    "axs[2].set_ylim([- 1.3,1.3])\n",
    "\n",
    "# Hide x labels and tick labels for all but the bottom plot\n",
    "for ax in axs:\n",
    "    ax.label_outer()\n",
    "\n",
    "# Setting x and y labels\n",
    "axs[-1].set_xlabel('Frequency (THz)', fontsize=20)  # Set the x-label only on the bottom plot\n",
    "fig.text(0.04, 0.5, 'Normalized Signal', va='center', rotation='vertical', fontsize=20)\n",
    "\n",
    "# Setting x-limits\n",
    "freq_xlim = [min(fvecColX[maxIndexColX]), max(fvecColX[maxIndexColX])]\n",
    "axs[0].set_xlim(freq_xlim)\n",
    "\n",
    "# Convert frequency limits to wavelength limits for the top axis\n",
    "freq_xlim_hz = np.array(freq_xlim) * 1e12  # Convert THz to Hz\n",
    "wavelength_xlim_m = c / freq_xlim_hz  # Wavelength in meters\n",
    "wavelength_xlim_nm = wavelength_xlim_m * 1e9\n",
    "\n",
    "top_ax.set_xlim(wavelength_xlim_nm)  # Set the top x-axis limits to the wavelength limits\n",
    "top_ax.set_xlabel('Wavelength (nm)', fontsize=16)\n",
    "\n",
    "# Make sure the top axis is visible\n",
    "top_ax.xaxis.set_visible(True)\n",
    "\n",
    "# Adjust tick labels format\n",
    "for ax in axs:\n",
    "    ax.ticklabel_format(useOffset=False)\n",
    "\n",
    "plt.show()\n",
    "\n",
    "winsound.Beep(CFREQ,DUR)\n",
    "winsound.Beep(DFREQ,DUR)"
   ]
  },
  {
   "cell_type": "code",
   "execution_count": null,
   "id": "4e99b017-d8bc-4b99-9b60-79f7717dd50b",
   "metadata": {},
   "outputs": [],
   "source": [
    "#Intensity and rotations vs frequency for Opposite Magnets\n",
    "##### OONLY EXECUTE IF SAME AS ABOVE\n",
    "\n",
    "print(\"Which number of folder corresponds to opposite magnets, x intensity?\")\n",
    "folOpX = int(AskInput(int)) -1\n",
    "avMaxOpX = avMax[folOpX]\n",
    "IOpX = intensityArray[folOpX]\n",
    "fvecOpX = fvecArray[folOpX]\n",
    "maxIndexOpX = maxIndexArray[folOpX]\n",
    "\n",
    "\n",
    "\n",
    "print(\"Which number of folder corresponds to opposite magnets, y intensity?\")\n",
    "folOpY = int(AskInput(int)) -1\n",
    "avMaxOpY = avMax[folOpY]\n",
    "IOpY = intensityArray[folOpY]\n",
    "fvecOpY = fvecArray[folOpY]\n",
    "maxIndexOpY = maxIndexArray[folOpY]\n",
    "\n",
    "avMaxSeparOp = avMaxOpY - avMaxOpX\n",
    "\n",
    "angOp = (IOpX - IOpY)/(IOpX + IOpY)\n",
    "\n",
    "\n",
    "c = 299792458\n",
    "wavelengthsOpX = c/(1000*fvecOpX)   # Convert meters to nanometers\n",
    "wavelengthsOpY = c/(1000*fvecOpY)\n",
    "\n",
    "# Create the figure and gridspec\n",
    "fig = plt.figure()\n",
    "gs = fig.add_gridspec(3, hspace=0)\n",
    "axs = gs.subplots(sharex=True, sharey=False)  # Ensure sharey=False to have independent y-limits\n",
    "\n",
    "# Create a top x-axis for only the first subplot\n",
    "top_ax = axs[0].twiny()\n",
    "\n",
    "# Plotting the data\n",
    "axs[1].plot(fvecOpX[maxIndexOpX], avMaxOpX / np.max(avMaxOpX), 'g', label='Horizontal component opposite magnets')\n",
    "axs[0].plot(fvecOpX[maxIndexOpX], avMaxOpY / np.max(avMaxOpY), 'r', label='Vertical component opposite magnets')\n",
    "axs[2].plot(fvecOpX[maxIndexOpX], angOp, label='Rotation opposite magnets')\n",
    "\n",
    "# Adding legends\n",
    "axs[0].legend(loc=\"upper right\")\n",
    "axs[1].legend(loc=\"upper right\")\n",
    "axs[2].legend(loc=\"upper right\")\n",
    "\n",
    "# Setting y-limits\n",
    "axs[0].set_ylim([0, 1.1])\n",
    "axs[1].set_ylim([0, 1.1])\n",
    "axs[2].set_ylim([- 1.3,1.3])\n",
    "\n",
    "# Hide x labels and tick labels for all but the bottom plot\n",
    "for ax in axs:\n",
    "    ax.label_outer()\n",
    "\n",
    "# Setting x and y labels\n",
    "axs[-1].set_xlabel('Frequency (THz)', fontsize=20)  # Set the x-label only on the bottom plot\n",
    "fig.text(0.04, 0.5, 'Normalized Signal', va='center', rotation='vertical', fontsize=20)\n",
    "\n",
    "# Setting x-limits\n",
    "freq_xlim = [min(fvecOpX[maxIndexOpX]), max(fvecOpX[maxIndexOpX])]\n",
    "axs[0].set_xlim(freq_xlim)\n",
    "\n",
    "# Convert frequency limits to wavelength limits for the top axis\n",
    "freq_xlim_hz = np.array(freq_xlim) * 1e12  # Convert THz to Hz\n",
    "wavelength_xlim_m = c / freq_xlim_hz  # Wavelength in meters\n",
    "wavelength_xlim_nm = wavelength_xlim_m * 1e9\n",
    "\n",
    "top_ax.set_xlim(wavelength_xlim_nm)  # Set the top x-axis limits to the wavelength limits\n",
    "top_ax.set_xlabel('Wavelength (nm)', fontsize=16)\n",
    "\n",
    "# Make sure the top axis is visible\n",
    "top_ax.xaxis.set_visible(True)\n",
    "\n",
    "# Adjust tick labels format\n",
    "for ax in axs:\n",
    "    ax.ticklabel_format(useOffset=False)\n",
    "\n",
    "plt.show()\n",
    "\n",
    "winsound.Beep(CFREQ,DUR)\n",
    "winsound.Beep(DFREQ,DUR)"
   ]
  },
  {
   "cell_type": "code",
   "execution_count": null,
   "id": "78a4e2c1-956c-49a5-8e3f-216933f85034",
   "metadata": {},
   "outputs": [],
   "source": [
    "#Save rotation angles w.r.t frequency for each magnet positioning\n",
    "\n",
    "rotationSaved = []\n",
    "rotationSaved.append(savePath + \"rotation_vs_frequency_col.h5\")\n",
    "rotationSaved.append(savePath + \"rotation_vs_frequency_op.h5\")\n",
    "\n",
    "with h5py.File(rotationSaved[0], 'w') as f:\n",
    "    dset = f.create_dataset(\"x\",data = fvecColX[maxIndexColX])\n",
    "    dset = f.create_dataset(\"y\", data = angCol)\n",
    "\n",
    "with h5py.File(rotationSaved[1], 'w') as f:\n",
    "    dset = f.create_dataset(\"x\",data = fvecOpX[maxIndexOpX])\n",
    "    dset = f.create_dataset(\"y\", data = angOp)\n",
    "\n",
    "winsound.Beep(CFREQ,DUR)\n",
    "winsound.Beep(DFREQ,DUR)"
   ]
  },
  {
   "cell_type": "code",
   "execution_count": null,
   "id": "da13c7dc-1c6b-4d4e-96f0-72ccffe56a88",
   "metadata": {},
   "outputs": [],
   "source": [
    "freqCol, rotationCol = GetInfo(rotationSaved[0])\n",
    "freqOp, rotationOp = GetInfo(rotationSaved[1])\n",
    "\n",
    "winsound.Beep(CFREQ,DUR)\n",
    "winsound.Beep(DFREQ,DUR)"
   ]
  },
  {
   "cell_type": "code",
   "execution_count": null,
   "id": "2a30abd0-8b69-4373-a4d5-34f26d8c3696",
   "metadata": {},
   "outputs": [],
   "source": [
    "difer = rotationCol - rotationOp\n",
    "\n",
    "winsound.Beep(CFREQ,DUR)\n",
    "winsound.Beep(DFREQ,DUR)"
   ]
  },
  {
   "cell_type": "code",
   "execution_count": null,
   "id": "7f4d72ce-112a-40d8-b4ef-91c9a54008bc",
   "metadata": {},
   "outputs": [],
   "source": [
    "# Create the figure and gridspec\n",
    "fig = plt.figure()\n",
    "gs = fig.add_gridspec(3, hspace=0)\n",
    "axs = gs.subplots(sharex=True, sharey=False)  # Ensure sharey=False to have independent y-limits\n",
    "#fig.suptitle('Samarium')\n",
    "\n",
    "# Create a top x-axis for only the first subplot\n",
    "top_ax = axs[0].twiny()\n",
    "\n",
    "# Plotting the data\n",
    "axs[1].plot(freqCol,rotationCol, 'g', label='Colinear magnets rotation')\n",
    "axs[0].plot(freqOp,rotationOp, 'r', label='Opposite magnets rotation')\n",
    "axs[2].plot(freqCol,difer, label='Difference')\n",
    "\n",
    "# Adding legends\n",
    "axs[0].legend(loc=\"upper right\")\n",
    "axs[1].legend(loc=\"upper right\")\n",
    "axs[2].legend(loc=\"upper right\")\n",
    "\n",
    "# Setting y-limits\n",
    "axs[0].set_ylim([- 1.3,1.3])\n",
    "axs[1].set_ylim([- 1.3,1.3])\n",
    "axs[2].set_ylim([- 1.3,1.3])\n",
    "\n",
    "# Hide x labels and tick labels for all but the bottom plot\n",
    "for ax in axs:\n",
    "    ax.label_outer()\n",
    "\n",
    "# Setting x and y labels\n",
    "axs[-1].set_xlabel('Frequency (THz)', fontsize=20)  # Set the x-label only on the bottom plot\n",
    "fig.text(0.04, 0.5, 'Normalized Signal', va='center', rotation='vertical', fontsize=20)\n",
    "\n",
    "# Setting x-limits\n",
    "freq_xlim = [min(freqCol), max(freqCol)]\n",
    "axs[0].set_xlim(freq_xlim)\n",
    "\n",
    "# Convert frequency limits to wavelength limits for the top axis\n",
    "freq_xlim_hz = np.array(freq_xlim) * 1e12  # Convert THz to Hz\n",
    "wavelength_xlim_m = c / freq_xlim_hz  # Wavelength in meters\n",
    "wavelength_xlim_nm = wavelength_xlim_m * 1e9 \n",
    "#wavelength_xlim_nm = wavelength_xlim_nm[::-1]\n",
    "\n",
    "top_ax.set_xlim(wavelength_xlim_nm)  # Set the top x-axis limits to the wavelength limits\n",
    "top_ax.set_xlabel('Wavelength (nm)', fontsize=16)\n",
    "\n",
    "# Make sure the top axis is visible\n",
    "top_ax.xaxis.set_visible(True)\n",
    "\n",
    "# Adjust tick labels format\n",
    "for ax in axs:\n",
    "    ax.ticklabel_format(useOffset=False)\n",
    "\n",
    "plt.show()\n",
    "\n",
    "winsound.Beep(CFREQ,DUR)\n",
    "winsound.Beep(DFREQ,DUR)"
   ]
  },
  {
   "cell_type": "code",
   "execution_count": null,
   "id": "630071bd-e33d-4422-8772-1501b2aded84",
   "metadata": {},
   "outputs": [],
   "source": []
  }
 ],
 "metadata": {
  "kernelspec": {
   "display_name": "Python 3 (ipykernel)",
   "language": "python",
   "name": "python3"
  },
  "language_info": {
   "codemirror_mode": {
    "name": "ipython",
    "version": 3
   },
   "file_extension": ".py",
   "mimetype": "text/x-python",
   "name": "python",
   "nbconvert_exporter": "python",
   "pygments_lexer": "ipython3",
   "version": "3.12.5"
  }
 },
 "nbformat": 4,
 "nbformat_minor": 5
}
