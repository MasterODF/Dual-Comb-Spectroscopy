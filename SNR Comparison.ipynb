{
 "cells": [
  {
   "cell_type": "code",
   "execution_count": 1,
   "id": "e6cd0d4a-24ae-4ae9-8e78-01bb4920ca23",
   "metadata": {},
   "outputs": [],
   "source": [
    "# This program opens a certain number of files. Given a period of time, the program will attempt\n",
    "# to split the file in equal intervals of duration equal to that period.\n",
    "# Then, a fft is performed for each interval. Then, all of these are averaged and plotted.\n",
    "#Finally, the program performs the fft of the whole file without splitting and plots the spectrograph aswell."
   ]
  },
  {
   "cell_type": "code",
   "execution_count": 2,
   "id": "a0230a76-1f31-4d18-b758-7d458bcc4003",
   "metadata": {},
   "outputs": [],
   "source": [
    "# Libraries and packages needed\n",
    "\n",
    "%matplotlib widget\n",
    "\n",
    "import winsound\n",
    "import numpy as np\n",
    "import os\n",
    "import h5py\n",
    "import matplotlib.pyplot as plt\n",
    "from scipy.fft import fft, fftfreq\n",
    "from scipy.signal import find_peaks\n",
    "import pandas as pd\n",
    "import math\n",
    "from __future__ import division\n",
    "from numpy import linspace, loadtxt, ones, convolve\n",
    "import numpy as numpy\n",
    "import logging"
   ]
  },
  {
   "cell_type": "code",
   "execution_count": 3,
   "id": "6f99db69-c4c5-4838-9287-21e6771e7f2b",
   "metadata": {},
   "outputs": [],
   "source": [
    "#Logging configuration. I recommend setting DEBUG to INFO for less debugging info :)\n",
    "\n",
    "logging.basicConfig(level=logging.INFO, format='%(asctime)s - %(levelname)s - %(message)s')"
   ]
  },
  {
   "cell_type": "code",
   "execution_count": 4,
   "id": "25f061e9-4a85-4315-897d-d442b5e6bd51",
   "metadata": {},
   "outputs": [],
   "source": [
    "# Constants\n",
    "CFREQ = 523\n",
    "DFREQ = 261\n",
    "DUR = 200"
   ]
  },
  {
   "cell_type": "code",
   "execution_count": 5,
   "id": "8bb8a43c-cb8f-4001-9d9b-a61ff845ee8c",
   "metadata": {},
   "outputs": [],
   "source": [
    "#Functions\n",
    "\n",
    "def Beep():\n",
    "    winsound.Beep(CFREQ,DUR)\n",
    "    winsound.Beep(DFREQ,DUR)\n",
    "    \n",
    "def IsNumber(string):                     # Check if a string is a number\n",
    "    if not string:  # Handle empty strings\n",
    "        return False\n",
    "    try:\n",
    "        # Convert the string to a float, this will validate both integers and floats\n",
    "        float(string)\n",
    "        return True\n",
    "    except ValueError:\n",
    "        # If conversion fails, it's not a number\n",
    "        return False\n",
    "        \n",
    "def GetMaxValueMaxIndex(values,repeat):\n",
    "    max_values = []\n",
    "    max_indices = []\n",
    "    for i in range(0, math.floor(len(values)/repeat),1):\n",
    "        segment = values[math.floor(i * repeat) : math.floor((i+1) * repeat)]\n",
    "        max_value = np.max(segment)\n",
    "        max_index = np.argmax(segment) + math.floor(i * repeat)  # Add i to get the absolute index in the original array\n",
    "        max_values.append(max_value)\n",
    "        max_indices.append(max_index)\n",
    "    max_values = np.array(max_values)\n",
    "    max_indices = np.array(max_indices)\n",
    "    return max_values, max_indices\n",
    "\n",
    "def AskInput(expectedType):\n",
    "    Beep()\n",
    "    while True:\n",
    "        value = input()\n",
    "        if expectedType == int or expectedType == float:\n",
    "            if not IsNumber(value):\n",
    "                print(\"Wrong input, try again\")\n",
    "            else:\n",
    "                #Borrar esta linea de abajo\n",
    "                return value\n",
    "                \n",
    "                print(f\"Your input is: {value}. Do you want to change it? (y=yes,n=no)\")\n",
    "                check = input()\n",
    "                if check == 'n':\n",
    "                    return value\n",
    "        else:\n",
    "            #Y esta\n",
    "            return value\n",
    "            \n",
    "            print(f\"Your input is: {value}. Do you want to change it? (y=yes,n=no)\")\n",
    "            check = input()\n",
    "            if check == 'n':\n",
    "                return value\n",
    "\n",
    "def GetPath():\n",
    "    path = AskInput(str)\n",
    "    \n",
    "    if os.path.isfile(path):\n",
    "        logging.debug(f\"The provided path is a valid file: {path}\")\n",
    "    elif os.path.isdir(path):\n",
    "        logging.debug(f\"The provided path is a valid directory: {path}\")\n",
    "        \n",
    "        path = os.path.join(path, '')\n",
    "    else:\n",
    "        logging.error(\"The path provided is neither a valid file nor a directory.\")\n",
    "    \n",
    "    return path\n",
    "\n",
    "def ExtractIntensities(frequencies, intensities, freqStart, freqEnd):\n",
    "    # Convert input lists to numpy arrays if they aren't already\n",
    "    frequencies = np.array(frequencies)\n",
    "    intensities = np.array(intensities)\n",
    "    \n",
    "    # Find indices where frequencies are within the specified range\n",
    "    indices = np.where((frequencies >= freqStart) & (frequencies <= freqEnd))[0]\n",
    "    \n",
    "    # Check if there are any frequencies in the range\n",
    "    if len(indices) == 0:\n",
    "        raise ValueError(\"No frequencies found within the specified range.\")\n",
    "    \n",
    "    # Extract intensities for these indices\n",
    "    selected_intensities = intensities[indices]\n",
    "    return selected_intensities\n",
    "\n",
    "\n",
    "\n",
    "\n",
    "def stdev_intensity(frequencies, intensities, freq_start, freq_end):\n",
    "    # Convert input lists to numpy arrays if they aren't already\n",
    "    frequencies = np.array(frequencies)\n",
    "    intensities = np.array(intensities)\n",
    "    \n",
    "    # Find indices where frequencies are within the specified range\n",
    "    indices = np.where((frequencies >= freq_start) & (frequencies <= freq_end))[0]\n",
    "    \n",
    "    # Check if there are any frequencies in the range\n",
    "    if len(indices) == 0:\n",
    "        raise ValueError(\"No frequencies found within the specified range.\")\n",
    "    \n",
    "    # Extract intensities for these indices\n",
    "    selected_intensities = intensities[indices]\n",
    "    \n",
    "    # Calculate and return the average intensity\n",
    "    stand_deviat = np.std(selected_intensities)\n",
    "    return stand_deviat\n",
    "\n",
    "\n",
    "\n",
    "def SignalToNoise(fArray, iArray):\n",
    "    #print(f\"Frequency window of noise (beginning): \")\n",
    "    #winBeg = float(AskInput(float))\n",
    "    #print(f\"Frequency window of noise (end): \")\n",
    "    #winEnd = float(AskInput(float))\n",
    "\n",
    "    winBeg = 22.0\n",
    "    winEnd = 22.5\n",
    "    \n",
    "    stand_deviat = stdev_intensity(fArray, iArray, winBeg, winEnd)\n",
    "\n",
    "    return 1 / stand_deviat\n",
    "\n",
    "\n",
    "def MovingAverage(interval, window_size):\n",
    "    window= numpy.ones(int(window_size))/float(window_size)\n",
    "    return numpy.convolve(interval, window, 'same')\n",
    "\n",
    "Beep()"
   ]
  },
  {
   "cell_type": "code",
   "execution_count": 6,
   "id": "b6f80b83-5d14-4d66-ae37-4fa8df84c18e",
   "metadata": {},
   "outputs": [
    {
     "name": "stdout",
     "output_type": "stream",
     "text": [
      "Number of folders: \n"
     ]
    },
    {
     "name": "stdin",
     "output_type": "stream",
     "text": [
      " 1\n"
     ]
    },
    {
     "name": "stdout",
     "output_type": "stream",
     "text": [
      "Common name of files: \n"
     ]
    },
    {
     "name": "stdin",
     "output_type": "stream",
     "text": [
      " B_\n"
     ]
    },
    {
     "name": "stdout",
     "output_type": "stream",
     "text": [
      "Sampling rate (Msamp/s): \n"
     ]
    },
    {
     "name": "stdin",
     "output_type": "stream",
     "text": [
      " 250\n"
     ]
    },
    {
     "name": "stdout",
     "output_type": "stream",
     "text": [
      "Minimum frequency of interest (MHz): \n"
     ]
    },
    {
     "name": "stdin",
     "output_type": "stream",
     "text": [
      " 0\n"
     ]
    },
    {
     "name": "stdout",
     "output_type": "stream",
     "text": [
      "Maximum frequency of interest (MHz): \n"
     ]
    },
    {
     "name": "stdin",
     "output_type": "stream",
     "text": [
      " 250\n"
     ]
    }
   ],
   "source": [
    "#### Some general info\n",
    "\n",
    "print(\"Number of folders: \")\n",
    "numFolders = int(AskInput(int))\n",
    "print(\"Common name of files: \")\n",
    "commonName = AskInput(str)\n",
    "print(\"Sampling rate (Msamp/s): \")\n",
    "sampRate = float(AskInput(float)) * 10**6\n",
    "print(\"Minimum frequency of interest (MHz): \")\n",
    "minFreqIntPlot = float(AskInput(float))\n",
    "print(\"Maximum frequency of interest (MHz): \")\n",
    "maxFreqIntPlot = float(AskInput(float))\n",
    "\n",
    "Beep()"
   ]
  },
  {
   "cell_type": "code",
   "execution_count": 7,
   "id": "d7780ce6-db87-494f-b205-c7e4adf2240e",
   "metadata": {},
   "outputs": [
    {
     "name": "stdout",
     "output_type": "stream",
     "text": [
      "*****************ACCESSING FOLDER 1*****************\n",
      "Please, introduce the path of the folder 1, where files are: \n"
     ]
    },
    {
     "name": "stdin",
     "output_type": "stream",
     "text": [
      " C:\\Users\\Óscar\\Desktop\\DCS\\2024_09_20_14h_17m_53s\\Digitizer1\n"
     ]
    },
    {
     "name": "stdout",
     "output_type": "stream",
     "text": [
      "Number of files in this folder: \n"
     ]
    },
    {
     "name": "stdin",
     "output_type": "stream",
     "text": [
      " 1000\n"
     ]
    },
    {
     "name": "stdout",
     "output_type": "stream",
     "text": [
      "Repeating frequency of FIRST comb (Hz) for folder 1: \n"
     ]
    },
    {
     "name": "stdin",
     "output_type": "stream",
     "text": [
      " 250000297.25\n"
     ]
    },
    {
     "name": "stdout",
     "output_type": "stream",
     "text": [
      "Repeating frequency of SECOND comb (Hz) for folder 1: \n"
     ]
    },
    {
     "name": "stdin",
     "output_type": "stream",
     "text": [
      " 250000618.76\n"
     ]
    },
    {
     "name": "stdout",
     "output_type": "stream",
     "text": [
      "Off-set frequency (MHz): \n"
     ]
    },
    {
     "name": "stdin",
     "output_type": "stream",
     "text": [
      " 35\n"
     ]
    },
    {
     "name": "stdout",
     "output_type": "stream",
     "text": [
      "Approx example optical frequency (THz): \n"
     ]
    },
    {
     "name": "stdin",
     "output_type": "stream",
     "text": [
      " 422\n"
     ]
    },
    {
     "name": "stderr",
     "output_type": "stream",
     "text": [
      "2024-09-20 15:09:48,314 - INFO - Difference of repetition rates for folder 1: 321.50999999046326 Hz\n",
      "2024-09-20 15:09:48,314 - INFO - The unambiguity range is 97.19782996942905 THz\n",
      "2024-09-20 15:09:48,314 - INFO - The order of the unambiguity region is 5\n"
     ]
    },
    {
     "name": "stdout",
     "output_type": "stream",
     "text": [
      "Plotting results of folder 1. Setup name: \n"
     ]
    },
    {
     "name": "stdin",
     "output_type": "stream",
     "text": [
      " End Point\n"
     ]
    },
    {
     "ename": "IndexError",
     "evalue": "index 0 is out of bounds for axis 0 with size 0",
     "output_type": "error",
     "traceback": [
      "\u001b[1;31m---------------------------------------------------------------------------\u001b[0m",
      "\u001b[1;31mIndexError\u001b[0m                                Traceback (most recent call last)",
      "Cell \u001b[1;32mIn[7], line 90\u001b[0m\n\u001b[0;32m     86\u001b[0m logging\u001b[38;5;241m.\u001b[39mdebug(ffts)\n\u001b[0;32m     89\u001b[0m \u001b[38;5;66;03m# Average all ffts\u001b[39;00m\n\u001b[1;32m---> 90\u001b[0m avg \u001b[38;5;241m=\u001b[39m np\u001b[38;5;241m.\u001b[39mzeros(\u001b[38;5;28mlen\u001b[39m(\u001b[43mffts\u001b[49m\u001b[43m[\u001b[49m\u001b[38;5;241;43m0\u001b[39;49m\u001b[43m]\u001b[49m))\n\u001b[0;32m     91\u001b[0m \u001b[38;5;28;01mfor\u001b[39;00m subdiv \u001b[38;5;129;01min\u001b[39;00m ffts:\n\u001b[0;32m     92\u001b[0m     avg \u001b[38;5;241m+\u001b[39m\u001b[38;5;241m=\u001b[39m subdiv \u001b[38;5;241m/\u001b[39m \u001b[38;5;28mlen\u001b[39m(ffts)\n",
      "\u001b[1;31mIndexError\u001b[0m: index 0 is out of bounds for axis 0 with size 0"
     ]
    }
   ],
   "source": [
    "## Where everything comes together\n",
    "with open(\"SNRAnalysisWithAmp.txt\", \"w\") as snrFile:\n",
    "    \n",
    "    for i in range(0, numFolders):\n",
    "        ## Asks for folders. One folder per setup\n",
    "        print(f\"*****************ACCESSING FOLDER {i + 1}*****************\")\n",
    "        print(f\"Please, introduce the path of the folder {i + 1}, where files are: \")\n",
    "        pathFolder = GetPath()\n",
    "        \n",
    "        print(f\"Number of files in this folder: \")\n",
    "        numFiles = int(AskInput(int))\n",
    "        \n",
    "        # Info of each setup\n",
    "        print(f\"Repeating frequency of FIRST comb (Hz) for folder {i + 1}: \")\n",
    "        rep1 = float(AskInput(float))\n",
    "        \n",
    "        print(f\"Repeating frequency of SECOND comb (Hz) for folder {i + 1}: \")\n",
    "        rep2 = float(AskInput(float))\n",
    "        \n",
    "        df = abs(rep2 - rep1)\n",
    "        print(\"Off-set frequency (MHz): \")\n",
    "        f_ceo = float(AskInput(float) * 10 ** 6)\n",
    "        print(\"Approx example optical frequency (THz): \")\n",
    "        f_opt_wanted = float(AskInput(float)) * 10 ** 12\n",
    "        \n",
    "        f_unamb = (rep1 ** 2) / (2 * df)  # unambiguity range\n",
    "    \n",
    "        for k in range(1, 10):\n",
    "            if f_opt_wanted < k * f_unamb:\n",
    "                unamb_n = k\n",
    "                break\n",
    "    \n",
    "        logging.info(f\"Difference of repetition rates for folder {i + 1}: {df} Hz\")\n",
    "        logging.info(f'The unambiguity range is {f_unamb / 10 ** 12} THz')\n",
    "        logging.info(f\"The order of the unambiguity region is {unamb_n}\")\n",
    "    \n",
    "        fftsFull = None\n",
    "    \n",
    "        print(f\"Plotting results of folder {i+1}. Setup name: \")\n",
    "        setup = AskInput(str)\n",
    "\n",
    "        \n",
    "        ## Access each of the files inside the folder.\n",
    "        for j in range(0, numFiles):\n",
    "            filePath = pathFolder + commonName + str(j + 1) + \".h5\"\n",
    "            logging.debug(f\"Opening and reading file {filePath}\")\n",
    "    \n",
    "    \n",
    "            # Copy the data inside the file\n",
    "            data = h5py.File(filePath, \"r\")\n",
    "            signal = np.array(data[commonName + str(j + 1)])\n",
    "            logging.debug(signal)\n",
    "            logging.debug(len(signal))\n",
    "            data.close()\n",
    "    \n",
    "            \n",
    "            logging.debug(f\"Duration of the measurement: {len(signal) / sampRate} seconds.\")\n",
    "    \n",
    "    \n",
    "    \n",
    "            ########################### FOR THE SPLIT SIGNAL AND ITS FFT #############################\n",
    "            # Calculate the length of each subdivision so every subdivision has one pulse, approx\n",
    "            lengthSubdivision = int(math.ceil(sampRate / df))\n",
    "            logging.debug(f\"Array length: {lengthSubdivision}\")\n",
    "    \n",
    "            \n",
    "            # Calculate amount of segments and trim the signal so each division will have the same length\n",
    "            numFullSegments = len(signal) // lengthSubdivision\n",
    "            trimmedSignal = signal[:numFullSegments * lengthSubdivision]\n",
    "            logging.debug(signal)\n",
    "            logging.debug(len(signal))\n",
    "            logging.debug(trimmedSignal)\n",
    "            logging.debug(\n",
    "                f\"Lost data points: {len(signal) - len(trimmedSignal)}, representing a {100 * (len(signal) - len(trimmedSignal)) / len(signal)} % of the total\"\n",
    "            )\n",
    "    \n",
    "            \n",
    "            # Split the whole signal into arrays with the length calculated earlier\n",
    "            subdivArray = trimmedSignal.reshape(-1, lengthSubdivision)\n",
    "            logging.debug(subdivArray)\n",
    "    \n",
    "            \n",
    "            # Perform FFT of each subdivision\n",
    "            ffts = np.abs(fft(subdivArray))\n",
    "            ffts = np.array(ffts)\n",
    "            logging.debug(ffts)\n",
    "    \n",
    "            \n",
    "            # Average all ffts\n",
    "            avg = np.zeros(len(ffts[0]))\n",
    "            for subdiv in ffts:\n",
    "                avg += subdiv / len(ffts)\n",
    "    \n",
    "    \n",
    "            logging.debug(avg)\n",
    "            #############################################################################################\n",
    "    \n",
    "            \n",
    "            ############################# FOR THE FFT OF THE WHOLE SIGNAL ################################\n",
    "    \n",
    "            # Perform FFT on the entire signal\n",
    "            fft_signal = np.abs(fft(signal))\n",
    "            fft_signal = np.array(fft_signal)\n",
    "    \n",
    "            if j == 0:\n",
    "                fftsFull = fft_signal\n",
    "            else:\n",
    "                fftsFull += fft_signal\n",
    "            \n",
    "            # Arrays of frequencies\n",
    "            freqArray = np.linspace(0, sampRate / (10 ** 6), len(avg))\n",
    "            logging.debug(freqArray)\n",
    "            fvec = np.linspace(0, sampRate / (10 ** 6), len(fft_signal))\n",
    "            \n",
    "            ##############################################################################################\n",
    "    \n",
    "            ######################### CUT FREQUENCIES WHICH ARE OUTSIDE OF THE SPECIFIED RANGE #################\n",
    "    \n",
    "            avgForPlot = ExtractIntensities(freqArray, avg, minFreqIntPlot, maxFreqIntPlot)\n",
    "            fftSignalForPlot = ExtractIntensities(fvec, fft_signal, minFreqIntPlot, maxFreqIntPlot)\n",
    "    \n",
    "            freqArrayForPlot = np.linspace(minFreqIntPlot,maxFreqIntPlot, len(avgForPlot))\n",
    "            fvecForPlot = np.linspace(minFreqIntPlot,maxFreqIntPlot, len(fftSignalForPlot))\n",
    "            \n",
    "            ############################## FOR PLOTTING STUFF ############################################\n",
    "            \n",
    "            avgForPlot = avgForPlot/max(avgForPlot)\n",
    "            fftSignalForPlot = fftSignalForPlot/max(fftSignalForPlot)\n",
    "    \n",
    "    \n",
    "    \n",
    "            # Plot results\n",
    "    \n",
    "            plotName = f\"Setup: {setup}, file B_{j+1}\"\n",
    "    \n",
    "            # Create a new figure\n",
    "            plt.figure()\n",
    "    \n",
    "            # Plot results\n",
    "            plt.title(plotName)\n",
    "            plt.plot(freqArrayForPlot, avgForPlot, label=f\"Signal split in {1000/df} ms, then FFTd, then averaged.\")\n",
    "            plt.ylabel('Signal (arb. unit)', fontsize=20)\n",
    "            plt.xlabel('Radio frequency (MHz)', fontsize=20)\n",
    "            plt.xlim([minFreqIntPlot, maxFreqIntPlot])\n",
    "            \n",
    "            plt.plot(fvecForPlot, fftSignalForPlot, label=f\"FFT of setup {setup}, file B_{j+1}.\")\n",
    "            plt.legend(loc='upper left')\n",
    "            \n",
    "            plt.show()\n",
    "    \n",
    "            logging.info(f\"Setup: {setup}, File {j+1}\")\n",
    "            logging.debug(f\"SNR when split in {1000/df} ms, then FFTd, then averaged: {SignalToNoise(freqArrayForPlot, avgForPlot)}.\")\n",
    "            logging.debug(f\"SNR FFT of the whole signal: {SignalToNoise(fvecForPlot, fftSignalForPlot)}\")\n",
    "            \n",
    "            # Write SNR results to the file instead of printing\n",
    "            snrFile.write(f\"{SignalToNoise(freqArrayForPlot, avgForPlot)}\\t\") # SNR when split in {1000/df} ms, then FFTd, then averaged\n",
    "            snrFile.write(f\"{SignalToNoise(fvecForPlot, fftSignalForPlot)}\\n\\n\") #SNR FFT of the whole signal: \n",
    "            \n",
    "        fftsFull = fftsFull/numFiles\n",
    "        fftsFullForPlot = ExtractIntensities(np.linspace(0, sampRate / (10 ** 6), len(fftsFull)), fftsFull, minFreqIntPlot, maxFreqIntPlot)\n",
    "        \n",
    "        fFullVecForPlot = np.linspace(minFreqIntPlot,maxFreqIntPlot, len(fftsFullForPlot))\n",
    "        fftsFullForPlot = fftsFullForPlot/max(fftsFullForPlot)\n",
    "        \n",
    "        plt.figure(int(k*j+1))\n",
    "        plt.plot(fFullVecForPlot, fftsFullForPlot, label =f\"Average of FFT of each file for setup {setup}\")\n",
    "        plt.legend(loc='upper left')\n",
    "        plt.show()\n",
    "\n",
    "\n",
    "\n",
    "\n",
    "\n",
    "\n",
    "\n",
    "        # Transfer to optical\n",
    "        \n",
    "        fvec = fFullVecForPlot\n",
    "        ffts = fftsFullForPlot\n",
    "        \n",
    "        fr = fFullVecForPlot * 10 ** 6  #array of frequencies taken from the real data\n",
    "        f_opt = [0 for i in range(len(fr))]  #new array for the optical wavelengths\n",
    "            \n",
    "            \n",
    "        for l in range (len(fr)): #transferring each element of the fr (which is in Hz) to the optical frequency and writing into f_opt\n",
    "            if (unamb_n % 2) == 0:\n",
    "                n = (((rep1) / 2) - fr[l]) / df\n",
    "            else:\n",
    "                n = fr[l] / df\n",
    "            nreg = (rep1 / 2) / df \n",
    "            n = n + (unamb_n - 1) * nreg \n",
    "            f_opt[l] = (n * rep1) / 10 ** 12\n",
    "\n",
    "        \n",
    "        f_opt = numpy.array(f_opt)\n",
    "        logging.info(f_opt)\n",
    "\n",
    "        f_opt = f_opt[f_opt != 0]\n",
    "        logging.info(f_opt)\n",
    "        #Get plots of intensities vs frequency in THz for all setups\n",
    "        \n",
    "        window = 1\n",
    "            \n",
    "        maxValueArray, maxIndexArray = GetMaxValueMaxIndex(ffts,df)\n",
    "        \n",
    "        avMax = MovingAverage(maxValueArray,window)\n",
    "        \n",
    "        avMax = avMax/np.max(avMax)\n",
    "\n",
    "        \n",
    "        plt.figure()\n",
    "        plt.plot(f_opt[maxIndexArray], avMax, label = f\"Average of FFTs of each file for setup {setup}. Optical range.\")\n",
    "        plt.ylabel('Signal (arb. unit)',fontsize=20)\n",
    "        plt.xlabel('Frequency (THz)',fontsize=20)\n",
    "\n",
    "\n",
    "\n",
    "\n",
    "        \n",
    "        logging.debug(f\"SNR FFT averaged for all files of setup {setup}: {SignalToNoise(fFullVecForPlot,fftsFullForPlot)}\")\n",
    "        snrFile.write(f\"SNR FFT averaged for all files of setup {setup}: {SignalToNoise(fFullVecForPlot, fftsFullForPlot)}\\n\")\n",
    "        snrFile.write(\"\\n\")\n",
    "        \n",
    "Beep()\n",
    "Beep()\n",
    "Beep()\n"
   ]
  },
  {
   "cell_type": "code",
   "execution_count": null,
   "id": "f9e39a52-d148-46e4-beed-b613d9c296b1",
   "metadata": {},
   "outputs": [],
   "source": [
    "print(avgForPlot)"
   ]
  },
  {
   "cell_type": "code",
   "execution_count": null,
   "id": "3bcaf8af-ee33-42bb-adc8-0a63c71b08d5",
   "metadata": {},
   "outputs": [],
   "source": [
    "print(GetTop20Values(avgForPlot))"
   ]
  },
  {
   "cell_type": "code",
   "execution_count": null,
   "id": "b19217cf-1ad6-4202-88ca-764ca6167576",
   "metadata": {},
   "outputs": [],
   "source": [
    "print(fft_signal)"
   ]
  },
  {
   "cell_type": "code",
   "execution_count": null,
   "id": "b8d8247f-aac9-44fc-a743-32f74aeb47a6",
   "metadata": {},
   "outputs": [],
   "source": [
    "print(fftSignalForPlot)"
   ]
  },
  {
   "cell_type": "code",
   "execution_count": null,
   "id": "24f5e1e7-807f-4208-9ae4-3aac5c0f98c1",
   "metadata": {},
   "outputs": [],
   "source": [
    "print(len(fftSignalForPlot))"
   ]
  },
  {
   "cell_type": "code",
   "execution_count": null,
   "id": "4a0eab0c-ea77-4ae2-a139-10c3768518e5",
   "metadata": {},
   "outputs": [],
   "source": [
    "print(avgForPlot)"
   ]
  },
  {
   "cell_type": "code",
   "execution_count": null,
   "id": "ff1ffb89-887d-456f-8025-108c7888ee64",
   "metadata": {},
   "outputs": [],
   "source": [
    "len(avgForPlot)"
   ]
  },
  {
   "cell_type": "code",
   "execution_count": null,
   "id": "01aa883b-16ed-4762-a1a2-9f463300fc34",
   "metadata": {},
   "outputs": [],
   "source": [
    "plt.plot(fvec,fft_signal)\n",
    "plt.show()"
   ]
  },
  {
   "cell_type": "code",
   "execution_count": null,
   "id": "94ac8420-0262-43ba-81f8-39611dffaab0",
   "metadata": {},
   "outputs": [],
   "source": [
    "print(fft_signal)\n",
    "print(len(fft_signal))"
   ]
  },
  {
   "cell_type": "code",
   "execution_count": null,
   "id": "d83f686c-218d-4e76-bbc8-faeb71f805f8",
   "metadata": {},
   "outputs": [],
   "source": [
    "int(math.ceil(sampRate / df))"
   ]
  },
  {
   "cell_type": "code",
   "execution_count": null,
   "id": "e7dc5b12-03a3-4f9a-b7ea-2bcf1dbd447f",
   "metadata": {},
   "outputs": [],
   "source": [
    "1000000*1000/sampRate"
   ]
  },
  {
   "cell_type": "code",
   "execution_count": 9,
   "id": "aaec42ce-c1ca-44a9-83be-f7e78910db8c",
   "metadata": {},
   "outputs": [
    {
     "ename": "ValueError",
     "evalue": "No frequencies found within the specified range.",
     "output_type": "error",
     "traceback": [
      "\u001b[1;31m---------------------------------------------------------------------------\u001b[0m",
      "\u001b[1;31mValueError\u001b[0m                                Traceback (most recent call last)",
      "Cell \u001b[1;32mIn[9], line 1\u001b[0m\n\u001b[1;32m----> 1\u001b[0m snrFile\u001b[38;5;241m.\u001b[39mwrite(\u001b[38;5;124mf\u001b[39m\u001b[38;5;124m\"\u001b[39m\u001b[38;5;124mSNR average of FFT in optical range for \u001b[39m\u001b[38;5;132;01m{\u001b[39;00msetup\u001b[38;5;132;01m}\u001b[39;00m\u001b[38;5;124m: \u001b[39m\u001b[38;5;132;01m{\u001b[39;00m\u001b[43mSignalToNoise\u001b[49m\u001b[43m(\u001b[49m\u001b[43mf_opt\u001b[49m\u001b[43m[\u001b[49m\u001b[43mmaxIndexArray\u001b[49m\u001b[43m]\u001b[49m\u001b[43m,\u001b[49m\u001b[38;5;250;43m \u001b[39;49m\u001b[43mavMax\u001b[49m\u001b[43m)\u001b[49m\u001b[38;5;132;01m}\u001b[39;00m\u001b[38;5;130;01m\\n\u001b[39;00m\u001b[38;5;124m\"\u001b[39m)\n",
      "Cell \u001b[1;32mIn[6], line 118\u001b[0m, in \u001b[0;36mSignalToNoise\u001b[1;34m(fArray, iArray)\u001b[0m\n\u001b[0;32m    115\u001b[0m winBeg \u001b[38;5;241m=\u001b[39m \u001b[38;5;241m22.0\u001b[39m\n\u001b[0;32m    116\u001b[0m winEnd \u001b[38;5;241m=\u001b[39m \u001b[38;5;241m22.5\u001b[39m\n\u001b[1;32m--> 118\u001b[0m stand_deviat \u001b[38;5;241m=\u001b[39m \u001b[43mstdev_intensity\u001b[49m\u001b[43m(\u001b[49m\u001b[43mfArray\u001b[49m\u001b[43m,\u001b[49m\u001b[43m \u001b[49m\u001b[43miArray\u001b[49m\u001b[43m,\u001b[49m\u001b[43m \u001b[49m\u001b[43mwinBeg\u001b[49m\u001b[43m,\u001b[49m\u001b[43m \u001b[49m\u001b[43mwinEnd\u001b[49m\u001b[43m)\u001b[49m\n\u001b[0;32m    120\u001b[0m \u001b[38;5;28;01mreturn\u001b[39;00m \u001b[38;5;241m1\u001b[39m \u001b[38;5;241m/\u001b[39m stand_deviat\n",
      "Cell \u001b[1;32mIn[6], line 98\u001b[0m, in \u001b[0;36mstdev_intensity\u001b[1;34m(frequencies, intensities, freq_start, freq_end)\u001b[0m\n\u001b[0;32m     96\u001b[0m \u001b[38;5;66;03m# Check if there are any frequencies in the range\u001b[39;00m\n\u001b[0;32m     97\u001b[0m \u001b[38;5;28;01mif\u001b[39;00m \u001b[38;5;28mlen\u001b[39m(indices) \u001b[38;5;241m==\u001b[39m \u001b[38;5;241m0\u001b[39m:\n\u001b[1;32m---> 98\u001b[0m     \u001b[38;5;28;01mraise\u001b[39;00m \u001b[38;5;167;01mValueError\u001b[39;00m(\u001b[38;5;124m\"\u001b[39m\u001b[38;5;124mNo frequencies found within the specified range.\u001b[39m\u001b[38;5;124m\"\u001b[39m)\n\u001b[0;32m    100\u001b[0m \u001b[38;5;66;03m# Extract intensities for these indices\u001b[39;00m\n\u001b[0;32m    101\u001b[0m selected_intensities \u001b[38;5;241m=\u001b[39m intensities[indices]\n",
      "\u001b[1;31mValueError\u001b[0m: No frequencies found within the specified range."
     ]
    }
   ],
   "source": [
    "snrFile.write(f\"SNR average of FFT in optical range for {setup}: {SignalToNoise(f_opt[maxIndexArray], avMax)}\\n\")"
   ]
  },
  {
   "cell_type": "code",
   "execution_count": 2,
   "id": "fadfd903-b6ed-41a5-bc84-c484d0572ebf",
   "metadata": {},
   "outputs": [
    {
     "name": "stdout",
     "output_type": "stream",
     "text": [
      "[1, 1.4167225114924706, 0.42247601856863476]\n",
      "[9, 3.1090139074191545, 1.3245534264675236]\n",
      "[10, 3.0845819440098152, 5.376153746643218]\n",
      "[10, 2.3962811847690224, 2.3708439124579446]\n",
      "[10, 2.8834305622320904, 3.4144973607648397]\n",
      "[8, 0.2501115278551743, 4.462578668724529]\n",
      "[1, 0.7502684328092647, 1.0874531742183378]\n",
      "[4, 0.6062135133549432, 1.4553684551011221]\n",
      "[1, 3.077520331853799, 5.536219103121288]\n",
      "[2, 0.5387737037589406, 2.033951466571307]\n",
      "[8, 2.92851522384481, 4.174903126313331]\n",
      "[6, 1.6554617126302136, 0.9821880426205356]\n",
      "[7, 3.115453777493776, 3.4948812204956274]\n",
      "[1, 1.0575775820363407, 2.2143768885929345]\n",
      "[10, 1.6991089892533113, 3.887657759215811]\n",
      "[1, 1.5143073039964254, 2.1710122300269985]\n",
      "[10, 0.4274401517921132, 4.397718851477043]\n",
      "[4, 2.493711537472407, 3.1445488366765546]\n",
      "[5, 0.15935707429170204, 5.0920247691263825]\n",
      "[4, 2.217937670593012, 2.087493610267329]\n",
      "[1, 0.38452723308488274, 1.24294374405864]\n",
      "[9, 2.473145097170866, 2.003053427575539]\n",
      "[9, 1.832818210424529, 3.20312083131545]\n",
      "[9, 1.5461661982591646, 4.572746300215858]\n",
      "[10, 0.8974475013439498, 5.592442467254122]\n",
      "[2, 1.5079268532192127, 1.5417261615513935]\n",
      "[10, 2.58733558389012, 4.964805874614896]\n",
      "[5, 2.570410505950034, 0.964075364407891]\n",
      "[8, 1.1882881304965607, 3.851809755214189]\n",
      "[2, 2.0503417040782055, 4.7686868340408575]\n",
      "[2, 1.453695646244103, 4.959336576409408]\n",
      "[6, 1.8763502675886043, 5.149480545343309]\n",
      "[2, 0.6896448119983128, 3.63913017054993]\n",
      "[3, 0.8140007953867306, 0.40453865142185674]\n",
      "[4, 0.5445023817050008, 2.416384536292827]\n",
      "[9, 0.13042857778833672, 0.7213698802496928]\n",
      "[5, 2.7720783886336875, 0.3564374378226897]\n",
      "[7, 0.7915077446129247, 0.7051147498934944]\n",
      "[5, 2.6649575673760095, 3.990572237726006]\n",
      "[1, 2.8088661350110606, 1.7353059179148072]\n",
      "[3, 1.8405379304669007, 2.591713183359487]\n",
      "[9, 1.64689544600554, 0.2623117870542748]\n",
      "[9, 1.7309088576792424, 6.06996428655992]\n",
      "[5, 1.1285940884614514, 2.4208401172064455]\n",
      "[8, 1.7372766731731806, 0.5223434961731779]\n",
      "[1, 0.4810769726045419, 3.524686673980474]\n",
      "[3, 1.6226587957490066, 3.60996023892893]\n",
      "[4, 0.8616008715214878, 5.849862760115249]\n",
      "[6, 2.041328266229813, 2.8838966026506037]\n",
      "[7, 2.551614769863306, 5.930701259507437]\n",
      "[7, 1.0431875944128708, 1.8494924325649207]\n",
      "[9, 1.862079708704384, 1.5278563707671322]\n",
      "[10, 0.1646931230159222, 3.745386981587937]\n",
      "[9, 3.110890432892647, 0.08404521512630596]\n",
      "[7, 1.5161313056559216, 1.0141857900459401]\n",
      "[3, 2.8127577803548034, 5.675371796289399]\n",
      "[6, 1.7378050275683679, 2.9415184560820333]\n",
      "[2, 0.3335587319905277, 1.2481960816193962]\n",
      "[5, 0.13934645227772022, 3.9771982316086287]\n",
      "[4, 2.364913115701964, 0.48002014319657565]\n",
      "[5, 0.23790761226473334, 5.694152470673243]\n",
      "[10, 1.3404766175775011, 2.1334922309255013]\n",
      "[5, 2.231286451169235, 4.939855285748317]\n",
      "[7, 2.5032724581616397, 1.7065427125786914]\n",
      "[1, 1.1461011623958606, 1.0740512745320652]\n",
      "[7, 0.24900832424799915, 4.836985495503836]\n",
      "[2, 2.88664408744604, 5.908722714230564]\n",
      "[8, 2.5401584040418634, 3.2710937484801357]\n",
      "[9, 1.3448011237862432, 5.813253521881393]\n",
      "[9, 2.2710600123396105, 3.3532612287277743]\n",
      "[1, 1.84027906969302, 4.80170471745227]\n",
      "[5, 1.071681659478114, 3.2384788820829007]\n",
      "[10, 2.4708313075095916, 0.1730678285063068]\n",
      "[9, 0.49412418125504876, 5.765278185962563]\n",
      "[1, 0.04097113788685411, 4.836671786031142]\n",
      "[5, 0.22387993093872405, 2.4095634125249368]\n",
      "[5, 2.095956054885711, 2.792188271150723]\n",
      "[2, 2.661806749756783, 3.144743740163837]\n",
      "[2, 2.5503072219749683, 4.749047991890953]\n",
      "[10, 1.7567082036975563, 1.0359480263681144]\n",
      "[6, 2.789238864357124, 4.394630033381866]\n",
      "[10, 1.3885945556094728, 5.4607932621200606]\n",
      "[7, 0.0002546175884938463, 0.7598527549574424]\n",
      "[8, 0.26727199464234164, 1.0645508639953287]\n",
      "[4, 0.7068566440160627, 3.461456002328017]\n",
      "[8, 1.8393011145216067, 2.139160540613133]\n",
      "[7, 0.2513618439024373, 5.46491116657462]\n",
      "[9, 1.5201124994694604, 2.98543039707938]\n",
      "[9, 1.159214348007869, 2.9614623977017582]\n",
      "[2, 0.2230846003536435, 3.294306685665079]\n",
      "[1, 3.120424940379942, 2.9482548690606185]\n",
      "[2, 1.7481155736773446, 0.9711908405222353]\n",
      "[9, 2.3407344532932837, 4.7652260650272265]\n",
      "[4, 0.4546185494225378, 6.01152787103025]\n",
      "[4, 0.44177859595454005, 1.403224790109999]\n",
      "[2, 1.6732777460495716, 0.8225746642321128]\n",
      "[10, 1.77418381943236, 3.451626329140133]\n",
      "[8, 0.9561077395892568, 5.018748158021843]\n",
      "[2, 2.3810303953325462, 0.7743364660409155]\n",
      "[10, 3.0685139071573775, 4.288999341703095]\n"
     ]
    }
   ],
   "source": [
    "import random\n",
    "import math\n",
    "\n",
    "# Initialize the list\n",
    "random_list = []\n",
    "\n",
    "# Generate 100 rows\n",
    "for _ in range(100):\n",
    "    # First column: random integer between 1 and 10\n",
    "    col1 = random.randint(1, 10)\n",
    "    # Second column: random float between 0 and pi\n",
    "    col2 = random.uniform(0, math.pi)\n",
    "    # Third column: random float between 0 and 2*pi\n",
    "    col3 = random.uniform(0, 2 * math.pi)\n",
    "    \n",
    "    # Append the row to the list\n",
    "    random_list.append([col1, col2, col3])\n",
    "\n",
    "# Print the generated list\n",
    "for row in random_list:\n",
    "    print(row)"
   ]
  },
  {
   "cell_type": "code",
   "execution_count": null,
   "id": "c52291c8-72f2-4bd1-8972-94c7d17b5162",
   "metadata": {},
   "outputs": [],
   "source": []
  }
 ],
 "metadata": {
  "kernelspec": {
   "display_name": "Python 3 (ipykernel)",
   "language": "python",
   "name": "python3"
  },
  "language_info": {
   "codemirror_mode": {
    "name": "ipython",
    "version": 3
   },
   "file_extension": ".py",
   "mimetype": "text/x-python",
   "name": "python",
   "nbconvert_exporter": "python",
   "pygments_lexer": "ipython3",
   "version": "3.12.5"
  }
 },
 "nbformat": 4,
 "nbformat_minor": 5
}
